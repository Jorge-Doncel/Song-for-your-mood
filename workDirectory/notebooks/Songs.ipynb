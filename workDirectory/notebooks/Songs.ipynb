{
 "cells": [
  {
   "cell_type": "code",
   "execution_count": 144,
   "metadata": {
    "scrolled": true
   },
   "outputs": [
    {
     "name": "stderr",
     "output_type": "stream",
     "text": [
      "[nltk_data] Downloading package vader_lexicon to\n",
      "[nltk_data]     /home/jorge/nltk_data...\n",
      "[nltk_data]   Package vader_lexicon is already up-to-date!\n"
     ]
    },
    {
     "data": {
      "text/plain": [
       "True"
      ]
     },
     "execution_count": 144,
     "metadata": {},
     "output_type": "execute_result"
    }
   ],
   "source": [
    "import pandas as pd\n",
    "import nltk\n",
    "from nltk.sentiment.vader import SentimentIntensityAnalyzer\n",
    "nltk.download('vader_lexicon')"
   ]
  },
  {
   "cell_type": "code",
   "execution_count": 145,
   "metadata": {},
   "outputs": [],
   "source": [
    "df=pd.read_csv(\"../../songs/spotify_songs.csv\")"
   ]
  },
  {
   "cell_type": "code",
   "execution_count": 146,
   "metadata": {},
   "outputs": [
    {
     "data": {
      "text/plain": [
       "Index(['track_id', 'track_name', 'track_artist', 'lyrics', 'track_popularity',\n",
       "       'track_album_id', 'track_album_name', 'track_album_release_date',\n",
       "       'playlist_name', 'playlist_id', 'playlist_genre', 'playlist_subgenre',\n",
       "       'danceability', 'energy', 'key', 'loudness', 'mode', 'speechiness',\n",
       "       'acousticness', 'instrumentalness', 'liveness', 'valence', 'tempo',\n",
       "       'duration_ms', 'language'],\n",
       "      dtype='object')"
      ]
     },
     "execution_count": 146,
     "metadata": {},
     "output_type": "execute_result"
    }
   ],
   "source": [
    "df.columns"
   ]
  },
  {
   "cell_type": "code",
   "execution_count": 149,
   "metadata": {},
   "outputs": [],
   "source": [
    "df=df[[\"track_name\", \"track_artist\", \"lyrics\", \"track_popularity\", \"track_album_name\", \"track_album_release_date\", \"playlist_name\",\"playlist_genre\", \"language\" ]]"
   ]
  },
  {
   "cell_type": "code",
   "execution_count": 150,
   "metadata": {},
   "outputs": [],
   "source": [
    "df= df[df[\"language\"]== \"en\"]"
   ]
  },
  {
   "cell_type": "code",
   "execution_count": 151,
   "metadata": {},
   "outputs": [],
   "source": [
    "df.drop(columns=[\"language\"], inplace=True)"
   ]
  },
  {
   "cell_type": "code",
   "execution_count": 152,
   "metadata": {},
   "outputs": [
    {
     "data": {
      "text/html": [
       "<div>\n",
       "<style scoped>\n",
       "    .dataframe tbody tr th:only-of-type {\n",
       "        vertical-align: middle;\n",
       "    }\n",
       "\n",
       "    .dataframe tbody tr th {\n",
       "        vertical-align: top;\n",
       "    }\n",
       "\n",
       "    .dataframe thead th {\n",
       "        text-align: right;\n",
       "    }\n",
       "</style>\n",
       "<table border=\"1\" class=\"dataframe\">\n",
       "  <thead>\n",
       "    <tr style=\"text-align: right;\">\n",
       "      <th></th>\n",
       "      <th>track_name</th>\n",
       "      <th>track_artist</th>\n",
       "      <th>lyrics</th>\n",
       "      <th>track_popularity</th>\n",
       "      <th>track_album_name</th>\n",
       "      <th>track_album_release_date</th>\n",
       "      <th>playlist_name</th>\n",
       "      <th>playlist_genre</th>\n",
       "    </tr>\n",
       "  </thead>\n",
       "  <tbody>\n",
       "    <tr>\n",
       "      <th>18448</th>\n",
       "      <td>Some Way</td>\n",
       "      <td>NAV</td>\n",
       "      <td>Yeah, nah, nah, nah, nah, nah, nah, nah, nah N...</td>\n",
       "      <td>72</td>\n",
       "      <td>NAV</td>\n",
       "      <td>2017-02-24</td>\n",
       "      <td>PROJECT: Contemporary</td>\n",
       "      <td>r&amp;b</td>\n",
       "    </tr>\n",
       "    <tr>\n",
       "      <th>18449</th>\n",
       "      <td>Rising Like The Sun - Radio Mix</td>\n",
       "      <td>Qulinez</td>\n",
       "      <td>Caught up in such a head rush, wide-eyed latel...</td>\n",
       "      <td>0</td>\n",
       "      <td>Rising Like The Sun</td>\n",
       "      <td>2014-03-24</td>\n",
       "      <td>♥ EDM LOVE 2020</td>\n",
       "      <td>edm</td>\n",
       "    </tr>\n",
       "    <tr>\n",
       "      <th>18450</th>\n",
       "      <td>Anaconda</td>\n",
       "      <td>Nicki Minaj</td>\n",
       "      <td>My anaconda don't, my anaconda don't My anacon...</td>\n",
       "      <td>49</td>\n",
       "      <td>The Pinkprint (Deluxe Edition)</td>\n",
       "      <td>2014-12-15</td>\n",
       "      <td>10er Playlist</td>\n",
       "      <td>pop</td>\n",
       "    </tr>\n",
       "    <tr>\n",
       "      <th>18451</th>\n",
       "      <td>Bound</td>\n",
       "      <td>Ponderosa Twins Plus One</td>\n",
       "      <td>Bound, bound Bound, bound Bound to fall in lov...</td>\n",
       "      <td>40</td>\n",
       "      <td>2+2+1 = (Digitally Remastered)</td>\n",
       "      <td>2013-07-09</td>\n",
       "      <td>Sexy Soul 2020</td>\n",
       "      <td>r&amp;b</td>\n",
       "    </tr>\n",
       "    <tr>\n",
       "      <th>18452</th>\n",
       "      <td>I'll Do 4 U (Re-Recorded / Remastered)</td>\n",
       "      <td>Father MC</td>\n",
       "      <td>(Would you do for me) Sweetheart (Would you do...</td>\n",
       "      <td>36</td>\n",
       "      <td>I'll Do 4 U (Re-Recorded / Remastered)</td>\n",
       "      <td>2010-10-01</td>\n",
       "      <td>New Jack Swing/ R&amp;B Hits: 1987 - 2002</td>\n",
       "      <td>r&amp;b</td>\n",
       "    </tr>\n",
       "  </tbody>\n",
       "</table>\n",
       "</div>"
      ],
      "text/plain": [
       "                                   track_name              track_artist  \\\n",
       "18448                                Some Way                       NAV   \n",
       "18449         Rising Like The Sun - Radio Mix                   Qulinez   \n",
       "18450                                Anaconda               Nicki Minaj   \n",
       "18451                                   Bound  Ponderosa Twins Plus One   \n",
       "18452  I'll Do 4 U (Re-Recorded / Remastered)                 Father MC   \n",
       "\n",
       "                                                  lyrics  track_popularity  \\\n",
       "18448  Yeah, nah, nah, nah, nah, nah, nah, nah, nah N...                72   \n",
       "18449  Caught up in such a head rush, wide-eyed latel...                 0   \n",
       "18450  My anaconda don't, my anaconda don't My anacon...                49   \n",
       "18451  Bound, bound Bound, bound Bound to fall in lov...                40   \n",
       "18452  (Would you do for me) Sweetheart (Would you do...                36   \n",
       "\n",
       "                             track_album_name track_album_release_date  \\\n",
       "18448                                     NAV               2017-02-24   \n",
       "18449                     Rising Like The Sun               2014-03-24   \n",
       "18450          The Pinkprint (Deluxe Edition)               2014-12-15   \n",
       "18451          2+2+1 = (Digitally Remastered)               2013-07-09   \n",
       "18452  I'll Do 4 U (Re-Recorded / Remastered)               2010-10-01   \n",
       "\n",
       "                               playlist_name playlist_genre  \n",
       "18448                  PROJECT: Contemporary            r&b  \n",
       "18449                        ♥ EDM LOVE 2020            edm  \n",
       "18450                          10er Playlist            pop  \n",
       "18451                         Sexy Soul 2020            r&b  \n",
       "18452  New Jack Swing/ R&B Hits: 1987 - 2002            r&b  "
      ]
     },
     "execution_count": 152,
     "metadata": {},
     "output_type": "execute_result"
    }
   ],
   "source": [
    "df.tail()"
   ]
  },
  {
   "cell_type": "code",
   "execution_count": 154,
   "metadata": {},
   "outputs": [],
   "source": [
    "sia = SentimentIntensityAnalyzer()"
   ]
  },
  {
   "cell_type": "code",
   "execution_count": 168,
   "metadata": {
    "scrolled": true
   },
   "outputs": [],
   "source": [
    "df[\"neg\"]= df[\"lyrics\"].apply(lambda x: sia.polarity_scores(x)[\"neg\"])\n",
    "df[\"pos\"]= df[\"lyrics\"].apply(lambda x: sia.polarity_scores(x)[\"pos\"])\n",
    "df[\"neu\"]= df[\"lyrics\"].apply(lambda x: sia.polarity_scores(x)[\"neu\"])"
   ]
  },
  {
   "cell_type": "code",
   "execution_count": 170,
   "metadata": {},
   "outputs": [
    {
     "data": {
      "text/html": [
       "<div>\n",
       "<style scoped>\n",
       "    .dataframe tbody tr th:only-of-type {\n",
       "        vertical-align: middle;\n",
       "    }\n",
       "\n",
       "    .dataframe tbody tr th {\n",
       "        vertical-align: top;\n",
       "    }\n",
       "\n",
       "    .dataframe thead th {\n",
       "        text-align: right;\n",
       "    }\n",
       "</style>\n",
       "<table border=\"1\" class=\"dataframe\">\n",
       "  <thead>\n",
       "    <tr style=\"text-align: right;\">\n",
       "      <th></th>\n",
       "      <th>track_name</th>\n",
       "      <th>track_artist</th>\n",
       "      <th>lyrics</th>\n",
       "      <th>track_popularity</th>\n",
       "      <th>track_album_name</th>\n",
       "      <th>track_album_release_date</th>\n",
       "      <th>playlist_name</th>\n",
       "      <th>playlist_genre</th>\n",
       "      <th>neg</th>\n",
       "      <th>pos</th>\n",
       "      <th>neu</th>\n",
       "    </tr>\n",
       "  </thead>\n",
       "  <tbody>\n",
       "    <tr>\n",
       "      <th>1</th>\n",
       "      <td>I Feel Alive</td>\n",
       "      <td>Steady Rollin</td>\n",
       "      <td>The trees, are singing in the wind The sky blu...</td>\n",
       "      <td>28</td>\n",
       "      <td>Love &amp; Loss</td>\n",
       "      <td>2017-11-21</td>\n",
       "      <td>Hard Rock Workout</td>\n",
       "      <td>rock</td>\n",
       "      <td>0.036</td>\n",
       "      <td>0.294</td>\n",
       "      <td>0.670</td>\n",
       "    </tr>\n",
       "    <tr>\n",
       "      <th>2</th>\n",
       "      <td>Poison</td>\n",
       "      <td>Bell Biv DeVoe</td>\n",
       "      <td>NA Yeah, Spyderman and Freeze in full effect U...</td>\n",
       "      <td>0</td>\n",
       "      <td>Gold</td>\n",
       "      <td>2005-01-01</td>\n",
       "      <td>Back in the day - R&amp;B, New Jack Swing, Swingbe...</td>\n",
       "      <td>r&amp;b</td>\n",
       "      <td>0.075</td>\n",
       "      <td>0.159</td>\n",
       "      <td>0.766</td>\n",
       "    </tr>\n",
       "    <tr>\n",
       "      <th>3</th>\n",
       "      <td>Baby It's Cold Outside (feat. Christina Aguilera)</td>\n",
       "      <td>CeeLo Green</td>\n",
       "      <td>I really can't stay Baby it's cold outside I'v...</td>\n",
       "      <td>41</td>\n",
       "      <td>CeeLo's Magic Moment</td>\n",
       "      <td>2012-10-29</td>\n",
       "      <td>Christmas Soul</td>\n",
       "      <td>r&amp;b</td>\n",
       "      <td>0.093</td>\n",
       "      <td>0.155</td>\n",
       "      <td>0.752</td>\n",
       "    </tr>\n",
       "    <tr>\n",
       "      <th>4</th>\n",
       "      <td>Dumb Litty</td>\n",
       "      <td>KARD</td>\n",
       "      <td>Get up out of my business You don't keep me fr...</td>\n",
       "      <td>65</td>\n",
       "      <td>KARD 2nd Digital Single ‘Dumb Litty’</td>\n",
       "      <td>2019-09-22</td>\n",
       "      <td>K-Party Dance Mix</td>\n",
       "      <td>pop</td>\n",
       "      <td>0.363</td>\n",
       "      <td>0.051</td>\n",
       "      <td>0.586</td>\n",
       "    </tr>\n",
       "    <tr>\n",
       "      <th>5</th>\n",
       "      <td>Soldier</td>\n",
       "      <td>James TW</td>\n",
       "      <td>Hold your breath, don't look down, keep trying...</td>\n",
       "      <td>70</td>\n",
       "      <td>Chapters</td>\n",
       "      <td>2019-04-26</td>\n",
       "      <td>urban contemporary</td>\n",
       "      <td>r&amp;b</td>\n",
       "      <td>0.138</td>\n",
       "      <td>0.175</td>\n",
       "      <td>0.687</td>\n",
       "    </tr>\n",
       "  </tbody>\n",
       "</table>\n",
       "</div>"
      ],
      "text/plain": [
       "                                          track_name    track_artist  \\\n",
       "1                                       I Feel Alive   Steady Rollin   \n",
       "2                                             Poison  Bell Biv DeVoe   \n",
       "3  Baby It's Cold Outside (feat. Christina Aguilera)     CeeLo Green   \n",
       "4                                         Dumb Litty            KARD   \n",
       "5                                            Soldier        James TW   \n",
       "\n",
       "                                              lyrics  track_popularity  \\\n",
       "1  The trees, are singing in the wind The sky blu...                28   \n",
       "2  NA Yeah, Spyderman and Freeze in full effect U...                 0   \n",
       "3  I really can't stay Baby it's cold outside I'v...                41   \n",
       "4  Get up out of my business You don't keep me fr...                65   \n",
       "5  Hold your breath, don't look down, keep trying...                70   \n",
       "\n",
       "                       track_album_name track_album_release_date  \\\n",
       "1                           Love & Loss               2017-11-21   \n",
       "2                                  Gold               2005-01-01   \n",
       "3                  CeeLo's Magic Moment               2012-10-29   \n",
       "4  KARD 2nd Digital Single ‘Dumb Litty’               2019-09-22   \n",
       "5                              Chapters               2019-04-26   \n",
       "\n",
       "                                       playlist_name playlist_genre    neg  \\\n",
       "1                                  Hard Rock Workout           rock  0.036   \n",
       "2  Back in the day - R&B, New Jack Swing, Swingbe...            r&b  0.075   \n",
       "3                                     Christmas Soul            r&b  0.093   \n",
       "4                                  K-Party Dance Mix            pop  0.363   \n",
       "5                                 urban contemporary            r&b  0.138   \n",
       "\n",
       "     pos    neu  \n",
       "1  0.294  0.670  \n",
       "2  0.159  0.766  \n",
       "3  0.155  0.752  \n",
       "4  0.051  0.586  \n",
       "5  0.175  0.687  "
      ]
     },
     "execution_count": 170,
     "metadata": {},
     "output_type": "execute_result"
    }
   ],
   "source": [
    "df.head()"
   ]
  },
  {
   "cell_type": "code",
   "execution_count": 172,
   "metadata": {},
   "outputs": [],
   "source": [
    "df.to_csv('../../data/songs_clean.csv')"
   ]
  }
 ],
 "metadata": {
  "kernelspec": {
   "display_name": "Python 3",
   "language": "python",
   "name": "python3"
  },
  "language_info": {
   "codemirror_mode": {
    "name": "ipython",
    "version": 3
   },
   "file_extension": ".py",
   "mimetype": "text/x-python",
   "name": "python",
   "nbconvert_exporter": "python",
   "pygments_lexer": "ipython3",
   "version": "3.6.9"
  }
 },
 "nbformat": 4,
 "nbformat_minor": 4
}
