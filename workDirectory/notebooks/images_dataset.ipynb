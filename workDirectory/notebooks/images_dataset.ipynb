{
 "cells": [
  {
   "cell_type": "code",
   "execution_count": 5,
   "metadata": {},
   "outputs": [],
   "source": [
    "import pandas as pd\n",
    "import numpy as np\n",
    "import tensorflow as tf\n",
    "\n",
    "import keras\n",
    "from keras.models import Sequential\n",
    "from keras.layers import Conv2D, MaxPooling2D, AveragePooling2D\n",
    "from keras.layers import Dense, Activation, Dropout, Flatten\n",
    "\n",
    "from keras.preprocessing import image\n",
    "from keras.preprocessing.image import ImageDataGenerator\n",
    "import pandas as pd\n",
    "import numpy as np\n",
    "import matplotlib.pyplot as plt\n",
    "from sklearn.model_selection import train_test_split\n",
    "from keras import backend as K\n",
    "\n",
    "from keras.metrics import categorical_accuracy\n",
    "from keras.models import model_from_json\n",
    "from keras.callbacks import ModelCheckpoint\n",
    "from keras.optimizers import *\n",
    "from keras.layers.normalization import BatchNormalization\n",
    "import glob\n",
    "import cv2\n",
    "from PIL import Image\n",
    "from numpy import asarray\n",
    "\n",
    "from sklearn.metrics import confusion_matrix\n",
    "import itertools\n"
   ]
  },
  {
   "cell_type": "code",
   "execution_count": 6,
   "metadata": {},
   "outputs": [],
   "source": [
    "train = glob.glob(\"../../real_faces/train/**/*.jpg\")\n",
    "validation = glob.glob(\"../../real_faces/validation/**/*.jpg\")"
   ]
  },
  {
   "cell_type": "code",
   "execution_count": 7,
   "metadata": {},
   "outputs": [],
   "source": [
    "df_train = pd.DataFrame({\"path\":train})\n",
    "df_validation = pd.DataFrame({\"path\":validation})"
   ]
  },
  {
   "cell_type": "code",
   "execution_count": 8,
   "metadata": {},
   "outputs": [],
   "source": [
    "df_train[\"GT\"] = df_train.path.apply(lambda x: x.split(\"/\")[4])\n",
    "df_validation[\"GT\"] = df_validation.path.apply(lambda x: x.split(\"/\")[4])"
   ]
  },
  {
   "cell_type": "code",
   "execution_count": 9,
   "metadata": {},
   "outputs": [
    {
     "data": {
      "text/html": [
       "<div>\n",
       "<style scoped>\n",
       "    .dataframe tbody tr th:only-of-type {\n",
       "        vertical-align: middle;\n",
       "    }\n",
       "\n",
       "    .dataframe tbody tr th {\n",
       "        vertical-align: top;\n",
       "    }\n",
       "\n",
       "    .dataframe thead th {\n",
       "        text-align: right;\n",
       "    }\n",
       "</style>\n",
       "<table border=\"1\" class=\"dataframe\">\n",
       "  <thead>\n",
       "    <tr style=\"text-align: right;\">\n",
       "      <th></th>\n",
       "      <th>path</th>\n",
       "      <th>GT</th>\n",
       "    </tr>\n",
       "  </thead>\n",
       "  <tbody>\n",
       "    <tr>\n",
       "      <th>0</th>\n",
       "      <td>../../real_faces/validation/disgust/34519.jpg</td>\n",
       "      <td>disgust</td>\n",
       "    </tr>\n",
       "    <tr>\n",
       "      <th>1</th>\n",
       "      <td>../../real_faces/validation/disgust/20761.jpg</td>\n",
       "      <td>disgust</td>\n",
       "    </tr>\n",
       "    <tr>\n",
       "      <th>2</th>\n",
       "      <td>../../real_faces/validation/disgust/12753.jpg</td>\n",
       "      <td>disgust</td>\n",
       "    </tr>\n",
       "    <tr>\n",
       "      <th>3</th>\n",
       "      <td>../../real_faces/validation/disgust/573.jpg</td>\n",
       "      <td>disgust</td>\n",
       "    </tr>\n",
       "    <tr>\n",
       "      <th>4</th>\n",
       "      <td>../../real_faces/validation/disgust/2732.jpg</td>\n",
       "      <td>disgust</td>\n",
       "    </tr>\n",
       "    <tr>\n",
       "      <th>...</th>\n",
       "      <td>...</td>\n",
       "      <td>...</td>\n",
       "    </tr>\n",
       "    <tr>\n",
       "      <th>7061</th>\n",
       "      <td>../../real_faces/validation/sad/34121.jpg</td>\n",
       "      <td>sad</td>\n",
       "    </tr>\n",
       "    <tr>\n",
       "      <th>7062</th>\n",
       "      <td>../../real_faces/validation/sad/22765.jpg</td>\n",
       "      <td>sad</td>\n",
       "    </tr>\n",
       "    <tr>\n",
       "      <th>7063</th>\n",
       "      <td>../../real_faces/validation/sad/13726.jpg</td>\n",
       "      <td>sad</td>\n",
       "    </tr>\n",
       "    <tr>\n",
       "      <th>7064</th>\n",
       "      <td>../../real_faces/validation/sad/19285.jpg</td>\n",
       "      <td>sad</td>\n",
       "    </tr>\n",
       "    <tr>\n",
       "      <th>7065</th>\n",
       "      <td>../../real_faces/validation/sad/14572.jpg</td>\n",
       "      <td>sad</td>\n",
       "    </tr>\n",
       "  </tbody>\n",
       "</table>\n",
       "<p>7066 rows × 2 columns</p>\n",
       "</div>"
      ],
      "text/plain": [
       "                                               path       GT\n",
       "0     ../../real_faces/validation/disgust/34519.jpg  disgust\n",
       "1     ../../real_faces/validation/disgust/20761.jpg  disgust\n",
       "2     ../../real_faces/validation/disgust/12753.jpg  disgust\n",
       "3       ../../real_faces/validation/disgust/573.jpg  disgust\n",
       "4      ../../real_faces/validation/disgust/2732.jpg  disgust\n",
       "...                                             ...      ...\n",
       "7061      ../../real_faces/validation/sad/34121.jpg      sad\n",
       "7062      ../../real_faces/validation/sad/22765.jpg      sad\n",
       "7063      ../../real_faces/validation/sad/13726.jpg      sad\n",
       "7064      ../../real_faces/validation/sad/19285.jpg      sad\n",
       "7065      ../../real_faces/validation/sad/14572.jpg      sad\n",
       "\n",
       "[7066 rows x 2 columns]"
      ]
     },
     "execution_count": 9,
     "metadata": {},
     "output_type": "execute_result"
    }
   ],
   "source": [
    "df_validation"
   ]
  },
  {
   "cell_type": "code",
   "execution_count": 10,
   "metadata": {},
   "outputs": [],
   "source": [
    "df_train[\"array\"]= df_train.path.apply(lambda x:asarray(Image.open(x)) )\n",
    "df_validation[\"array\"]= df_validation.path.apply(lambda x:asarray(Image.open(x)) )"
   ]
  },
  {
   "cell_type": "code",
   "execution_count": 11,
   "metadata": {
    "scrolled": true
   },
   "outputs": [
    {
     "data": {
      "text/html": [
       "<div>\n",
       "<style scoped>\n",
       "    .dataframe tbody tr th:only-of-type {\n",
       "        vertical-align: middle;\n",
       "    }\n",
       "\n",
       "    .dataframe tbody tr th {\n",
       "        vertical-align: top;\n",
       "    }\n",
       "\n",
       "    .dataframe thead th {\n",
       "        text-align: right;\n",
       "    }\n",
       "</style>\n",
       "<table border=\"1\" class=\"dataframe\">\n",
       "  <thead>\n",
       "    <tr style=\"text-align: right;\">\n",
       "      <th></th>\n",
       "      <th>path</th>\n",
       "      <th>GT</th>\n",
       "      <th>array</th>\n",
       "    </tr>\n",
       "  </thead>\n",
       "  <tbody>\n",
       "    <tr>\n",
       "      <th>0</th>\n",
       "      <td>../../real_faces/train/disgust/17299.jpg</td>\n",
       "      <td>disgust</td>\n",
       "      <td>[[71, 43, 22, 27, 28, 33, 38, 39, 43, 38, 31, ...</td>\n",
       "    </tr>\n",
       "    <tr>\n",
       "      <th>1</th>\n",
       "      <td>../../real_faces/train/disgust/25955.jpg</td>\n",
       "      <td>disgust</td>\n",
       "      <td>[[16, 11, 4, 16, 47, 81, 91, 85, 89, 95, 101, ...</td>\n",
       "    </tr>\n",
       "    <tr>\n",
       "      <th>2</th>\n",
       "      <td>../../real_faces/train/disgust/28029.jpg</td>\n",
       "      <td>disgust</td>\n",
       "      <td>[[18, 10, 9, 3, 1, 8, 8, 11, 11, 11, 10, 44, 6...</td>\n",
       "    </tr>\n",
       "    <tr>\n",
       "      <th>3</th>\n",
       "      <td>../../real_faces/train/disgust/34692.jpg</td>\n",
       "      <td>disgust</td>\n",
       "      <td>[[174, 172, 178, 122, 92, 108, 113, 112, 122, ...</td>\n",
       "    </tr>\n",
       "    <tr>\n",
       "      <th>4</th>\n",
       "      <td>../../real_faces/train/disgust/29951.jpg</td>\n",
       "      <td>disgust</td>\n",
       "      <td>[[165, 158, 120, 157, 231, 235, 231, 177, 111,...</td>\n",
       "    </tr>\n",
       "  </tbody>\n",
       "</table>\n",
       "</div>"
      ],
      "text/plain": [
       "                                       path       GT  \\\n",
       "0  ../../real_faces/train/disgust/17299.jpg  disgust   \n",
       "1  ../../real_faces/train/disgust/25955.jpg  disgust   \n",
       "2  ../../real_faces/train/disgust/28029.jpg  disgust   \n",
       "3  ../../real_faces/train/disgust/34692.jpg  disgust   \n",
       "4  ../../real_faces/train/disgust/29951.jpg  disgust   \n",
       "\n",
       "                                               array  \n",
       "0  [[71, 43, 22, 27, 28, 33, 38, 39, 43, 38, 31, ...  \n",
       "1  [[16, 11, 4, 16, 47, 81, 91, 85, 89, 95, 101, ...  \n",
       "2  [[18, 10, 9, 3, 1, 8, 8, 11, 11, 11, 10, 44, 6...  \n",
       "3  [[174, 172, 178, 122, 92, 108, 113, 112, 122, ...  \n",
       "4  [[165, 158, 120, 157, 231, 235, 231, 177, 111,...  "
      ]
     },
     "execution_count": 11,
     "metadata": {},
     "output_type": "execute_result"
    }
   ],
   "source": [
    "df_train.head()"
   ]
  },
  {
   "cell_type": "code",
   "execution_count": 12,
   "metadata": {},
   "outputs": [],
   "source": [
    "X_train = np.stack(df_train['array'])\n",
    "X_train = X_train / 255.0\n",
    "y_train=np.stack(df_train[\"GT\"])"
   ]
  },
  {
   "cell_type": "code",
   "execution_count": 13,
   "metadata": {},
   "outputs": [],
   "source": [
    "X_test = np.stack(df_validation['array'])\n",
    "X_test = X_test / 255.0\n",
    "y_test=df_validation[\"GT\"]"
   ]
  },
  {
   "cell_type": "code",
   "execution_count": 75,
   "metadata": {},
   "outputs": [],
   "source": [
    "img_rows, img_cols = 48,48\n",
    "if K.image_data_format() == 'channels_first':\n",
    "    X_train = x_train.reshape(X_train.shape[0], 1, img_rows, img_cols)\n",
    "    X_test = x_test.reshape(X_test.shape[0], 1, img_rows, img_cols)\n",
    "    input_shape = (1, img_rows, img_cols)\n",
    "else:\n",
    "    X_train = X_train.reshape(X_train.shape[0], img_rows, img_cols, 1)\n",
    "    X_test = X_test.reshape(X_test.shape[0], img_rows, img_cols, 1)\n",
    "    input_shape = (img_rows, img_cols, 1)"
   ]
  },
  {
   "cell_type": "code",
   "execution_count": 76,
   "metadata": {},
   "outputs": [],
   "source": [
    "# number of possible label values\n",
    "nb_classes = 7\n",
    "\n",
    "# Initialising the CNN\n",
    "model = Sequential()\n",
    "\n",
    "# 1 - Convolution\n",
    "model.add(Conv2D(64,(3,3), padding='same', input_shape=(48, 48,1)))\n",
    "model.add(BatchNormalization())\n",
    "model.add(Activation('relu'))\n",
    "model.add(MaxPooling2D(pool_size=(2, 2)))\n",
    "model.add(Dropout(0.25))\n",
    "\n",
    "# 2nd Convolution layer\n",
    "model.add(Conv2D(128,(5,5), padding='same'))\n",
    "model.add(BatchNormalization())\n",
    "model.add(Activation('relu'))\n",
    "model.add(MaxPooling2D(pool_size=(2, 2)))\n",
    "model.add(Dropout(0.25))\n",
    "\n",
    "# 3rd Convolution layer\n",
    "model.add(Conv2D(512,(3,3), padding='same'))\n",
    "model.add(BatchNormalization())\n",
    "model.add(Activation('relu'))\n",
    "model.add(MaxPooling2D(pool_size=(2, 2)))\n",
    "model.add(Dropout(0.25))\n",
    "\n",
    "# 4th Convolution layer\n",
    "model.add(Conv2D(512,(3,3), padding='same'))\n",
    "model.add(BatchNormalization())\n",
    "model.add(Activation('relu'))\n",
    "model.add(MaxPooling2D(pool_size=(2, 2)))\n",
    "model.add(Dropout(0.25))\n",
    "\n",
    "# Flattening\n",
    "model.add(Flatten())\n",
    "\n",
    "# Fully connected layer 1st layer\n",
    "model.add(Dense(256))\n",
    "model.add(BatchNormalization())\n",
    "model.add(Activation('relu'))\n",
    "model.add(Dropout(0.25))\n",
    "\n",
    "# Fully connected layer 2nd layer\n",
    "model.add(Dense(512))\n",
    "model.add(BatchNormalization())\n",
    "model.add(Activation('relu'))\n",
    "model.add(Dropout(0.25))\n",
    "\n",
    "model.add(Dense(nb_classes, activation='softmax'))\n",
    "\n",
    "opt = Adam(lr=0.0001)\n",
    "model.compile(optimizer=opt, loss='categorical_crossentropy', metrics=['accuracy'])"
   ]
  },
  {
   "cell_type": "code",
   "execution_count": 83,
   "metadata": {},
   "outputs": [
    {
     "name": "stdout",
     "output_type": "stream",
     "text": [
      "WARNING:tensorflow:From <ipython-input-83-d5950c84ce43>:13: Model.fit_generator (from tensorflow.python.keras.engine.training) is deprecated and will be removed in a future version.\n",
      "Instructions for updating:\n",
      "Please use Model.fit, which supports generators.\n"
     ]
    },
    {
     "ename": "TypeError",
     "evalue": "fit_generator() got an unexpected keyword argument 'x'",
     "output_type": "error",
     "traceback": [
      "\u001b[0;31m---------------------------------------------------------------------------\u001b[0m",
      "\u001b[0;31mTypeError\u001b[0m                                 Traceback (most recent call last)",
      "\u001b[0;32m<ipython-input-83-d5950c84ce43>\u001b[0m in \u001b[0;36m<module>\u001b[0;34m\u001b[0m\n\u001b[1;32m     11\u001b[0m                                 \u001b[0mvalidation_data\u001b[0m \u001b[0;34m=\u001b[0m \u001b[0;34m(\u001b[0m\u001b[0mX_test\u001b[0m\u001b[0;34m,\u001b[0m\u001b[0my_test\u001b[0m\u001b[0;34m)\u001b[0m\u001b[0;34m,\u001b[0m\u001b[0;34m\u001b[0m\u001b[0;34m\u001b[0m\u001b[0m\n\u001b[1;32m     12\u001b[0m                     \u001b[0mbatch_size\u001b[0m\u001b[0;34m=\u001b[0m\u001b[0;36m50\u001b[0m\u001b[0;34m,\u001b[0m\u001b[0;34m\u001b[0m\u001b[0;34m\u001b[0m\u001b[0m\n\u001b[0;32m---> 13\u001b[0;31m                                 \u001b[0mcallbacks\u001b[0m\u001b[0;34m=\u001b[0m\u001b[0mcallbacks_list\u001b[0m\u001b[0;34m\u001b[0m\u001b[0;34m\u001b[0m\u001b[0m\n\u001b[0m\u001b[1;32m     14\u001b[0m                                 )\n",
      "\u001b[0;32m~/.local/lib/python3.6/site-packages/tensorflow/python/util/deprecation.py\u001b[0m in \u001b[0;36mnew_func\u001b[0;34m(*args, **kwargs)\u001b[0m\n\u001b[1;32m    322\u001b[0m               \u001b[0;34m'in a future version'\u001b[0m \u001b[0;32mif\u001b[0m \u001b[0mdate\u001b[0m \u001b[0;32mis\u001b[0m \u001b[0;32mNone\u001b[0m \u001b[0;32melse\u001b[0m \u001b[0;34m(\u001b[0m\u001b[0;34m'after %s'\u001b[0m \u001b[0;34m%\u001b[0m \u001b[0mdate\u001b[0m\u001b[0;34m)\u001b[0m\u001b[0;34m,\u001b[0m\u001b[0;34m\u001b[0m\u001b[0;34m\u001b[0m\u001b[0m\n\u001b[1;32m    323\u001b[0m               instructions)\n\u001b[0;32m--> 324\u001b[0;31m       \u001b[0;32mreturn\u001b[0m \u001b[0mfunc\u001b[0m\u001b[0;34m(\u001b[0m\u001b[0;34m*\u001b[0m\u001b[0margs\u001b[0m\u001b[0;34m,\u001b[0m \u001b[0;34m**\u001b[0m\u001b[0mkwargs\u001b[0m\u001b[0;34m)\u001b[0m\u001b[0;34m\u001b[0m\u001b[0;34m\u001b[0m\u001b[0m\n\u001b[0m\u001b[1;32m    325\u001b[0m     return tf_decorator.make_decorator(\n\u001b[1;32m    326\u001b[0m         \u001b[0mfunc\u001b[0m\u001b[0;34m,\u001b[0m \u001b[0mnew_func\u001b[0m\u001b[0;34m,\u001b[0m \u001b[0;34m'deprecated'\u001b[0m\u001b[0;34m,\u001b[0m\u001b[0;34m\u001b[0m\u001b[0;34m\u001b[0m\u001b[0m\n",
      "\u001b[0;31mTypeError\u001b[0m: fit_generator() got an unexpected keyword argument 'x'"
     ]
    }
   ],
   "source": [
    "\n",
    "epochs = 50\n",
    "\n",
    "from keras.callbacks import ModelCheckpoint\n",
    "\n",
    "checkpoint = ModelCheckpoint(\"model_weights.h5\", monitor='val_acc', verbose=1, save_best_only=True, mode='max')\n",
    "callbacks_list = [checkpoint]\n",
    "\n",
    "history = model.fit_generator(x=X_train,     \n",
    "            y=y_train, \n",
    "                                epochs=epochs,\n",
    "                                validation_data = (X_test,y_test),\n",
    "                    batch_size=50,\n",
    "                                callbacks=callbacks_list\n",
    "                                )"
   ]
  },
  {
   "cell_type": "code",
   "execution_count": 16,
   "metadata": {},
   "outputs": [],
   "source": [
    "base_path = \"../../real_faces/\""
   ]
  },
  {
   "cell_type": "code",
   "execution_count": 17,
   "metadata": {},
   "outputs": [
    {
     "name": "stdout",
     "output_type": "stream",
     "text": [
      "Found 28821 images belonging to 7 classes.\n",
      "Found 7066 images belonging to 7 classes.\n"
     ]
    }
   ],
   "source": [
    "batch_size = 128\n",
    "pic_size = 48\n",
    "\n",
    "#Generate batches of tensor image data with real-time data augmentation.\n",
    "#The data will be looped over (in batches).\n",
    "\n",
    "The data will be looped over (in batches).\n",
    "datagen_train = ImageDataGenerator()\n",
    "datagen_validation = ImageDataGenerator()\n",
    "\n",
    "train_generator = datagen_train.flow_from_directory(base_path + \"train\",\n",
    "                                                    target_size=(pic_size,pic_size),\n",
    "                                                    color_mode=\"grayscale\",\n",
    "                                                    batch_size=batch_size,\n",
    "                                                    class_mode='categorical',\n",
    "                                                    shuffle=True)\n",
    "\n",
    "validation_generator = datagen_validation.flow_from_directory(base_path + \"validation\",\n",
    "                                                    target_size=(pic_size,pic_size),\n",
    "                                                    color_mode=\"grayscale\",\n",
    "                                                    batch_size=batch_size,\n",
    "                                                    class_mode='categorical',\n",
    "                                                    shuffle=False)"
   ]
  },
  {
   "cell_type": "code",
   "execution_count": 4,
   "metadata": {},
   "outputs": [],
   "source": [
    "# number of possible label values\n",
    "nb_classes = 7\n",
    "\n",
    "# Initialising the CNN\n",
    "model = Sequential()\n",
    "\n",
    "# 1 - Convolution\n",
    "model.add(Conv2D(64,(3,3), padding='same', input_shape=(48, 48,1)))\n",
    "model.add(BatchNormalization())\n",
    "model.add(Activation('relu'))\n",
    "model.add(MaxPooling2D(pool_size=(2, 2)))\n",
    "model.add(Dropout(0.25))\n",
    "\n",
    "# 2nd Convolution layer\n",
    "model.add(Conv2D(128,(5,5), padding='same'))\n",
    "model.add(BatchNormalization())\n",
    "model.add(Activation('relu'))\n",
    "model.add(MaxPooling2D(pool_size=(2, 2)))\n",
    "model.add(Dropout(0.25))\n",
    "\n",
    "# 3rd Convolution layer\n",
    "model.add(Conv2D(512,(3,3), padding='same'))\n",
    "model.add(BatchNormalization())\n",
    "model.add(Activation('relu'))\n",
    "model.add(MaxPooling2D(pool_size=(2, 2)))\n",
    "model.add(Dropout(0.25))\n",
    "\n",
    "# 4th Convolution layer\n",
    "model.add(Conv2D(512,(3,3), padding='same'))\n",
    "model.add(BatchNormalization())\n",
    "model.add(Activation('relu'))\n",
    "model.add(MaxPooling2D(pool_size=(2, 2)))\n",
    "model.add(Dropout(0.25))\n",
    "\n",
    "# Flattening\n",
    "model.add(Flatten())\n",
    "\n",
    "# Fully connected layer 1st layer\n",
    "model.add(Dense(256))\n",
    "model.add(BatchNormalization())\n",
    "model.add(Activation('relu'))\n",
    "model.add(Dropout(0.25))\n",
    "\n",
    "# Fully connected layer 2nd layer\n",
    "model.add(Dense(512))\n",
    "model.add(BatchNormalization())\n",
    "model.add(Activation('relu'))\n",
    "model.add(Dropout(0.25))\n",
    "\n",
    "model.add(Dense(nb_classes, activation='softmax'))\n",
    "\n",
    "opt = Adam(lr=0.0001)\n",
    "model.compile(optimizer=opt, loss='categorical_crossentropy', metrics=['accuracy'])\n"
   ]
  },
  {
   "cell_type": "code",
   "execution_count": 6,
   "metadata": {},
   "outputs": [
    {
     "name": "stdout",
     "output_type": "stream",
     "text": [
      "Epoch 1/30\n",
      "225/225 [==============================] - ETA: 0s - loss: 1.9463 - accuracy: 0.2448WARNING:tensorflow:Can save best model only with val_acc available, skipping.\n",
      "225/225 [==============================] - 926s 4s/step - loss: 1.9463 - accuracy: 0.2448 - val_loss: 1.7552 - val_accuracy: 0.2635\n",
      "Epoch 2/30\n",
      "225/225 [==============================] - ETA: 0s - loss: 1.8187 - accuracy: 0.2960WARNING:tensorflow:Can save best model only with val_acc available, skipping.\n",
      "225/225 [==============================] - 923s 4s/step - loss: 1.8187 - accuracy: 0.2960 - val_loss: 1.6936 - val_accuracy: 0.3031\n",
      "Epoch 3/30\n",
      "225/225 [==============================] - ETA: 0s - loss: 1.7410 - accuracy: 0.3271WARNING:tensorflow:Can save best model only with val_acc available, skipping.\n",
      "225/225 [==============================] - 928s 4s/step - loss: 1.7410 - accuracy: 0.3271 - val_loss: 1.6672 - val_accuracy: 0.3574\n",
      "Epoch 4/30\n",
      "225/225 [==============================] - ETA: 0s - loss: 1.6718 - accuracy: 0.3574WARNING:tensorflow:Can save best model only with val_acc available, skipping.\n",
      "225/225 [==============================] - 923s 4s/step - loss: 1.6718 - accuracy: 0.3574 - val_loss: 1.6187 - val_accuracy: 0.3754\n",
      "Epoch 5/30\n",
      "225/225 [==============================] - ETA: 0s - loss: 1.6070 - accuracy: 0.3819WARNING:tensorflow:Can save best model only with val_acc available, skipping.\n",
      "225/225 [==============================] - 923s 4s/step - loss: 1.6070 - accuracy: 0.3819 - val_loss: 1.5288 - val_accuracy: 0.4084\n",
      "Epoch 6/30\n",
      "225/225 [==============================] - ETA: 0s - loss: 1.5524 - accuracy: 0.4020WARNING:tensorflow:Can save best model only with val_acc available, skipping.\n",
      "225/225 [==============================] - 922s 4s/step - loss: 1.5524 - accuracy: 0.4020 - val_loss: 1.5655 - val_accuracy: 0.4102\n",
      "Epoch 7/30\n",
      "225/225 [==============================] - ETA: 0s - loss: 1.5092 - accuracy: 0.4191WARNING:tensorflow:Can save best model only with val_acc available, skipping.\n",
      "225/225 [==============================] - 919s 4s/step - loss: 1.5092 - accuracy: 0.4191 - val_loss: 1.4721 - val_accuracy: 0.4287\n",
      "Epoch 8/30\n",
      "225/225 [==============================] - ETA: 0s - loss: 1.4630 - accuracy: 0.4388WARNING:tensorflow:Can save best model only with val_acc available, skipping.\n",
      "225/225 [==============================] - 917s 4s/step - loss: 1.4630 - accuracy: 0.4388 - val_loss: 1.4160 - val_accuracy: 0.4524\n",
      "Epoch 9/30\n",
      "225/225 [==============================] - ETA: 0s - loss: 1.4138 - accuracy: 0.4564WARNING:tensorflow:Can save best model only with val_acc available, skipping.\n",
      "225/225 [==============================] - 919s 4s/step - loss: 1.4138 - accuracy: 0.4564 - val_loss: 1.3646 - val_accuracy: 0.4804\n",
      "Epoch 10/30\n",
      "225/225 [==============================] - ETA: 0s - loss: 1.3783 - accuracy: 0.4677WARNING:tensorflow:Can save best model only with val_acc available, skipping.\n",
      "225/225 [==============================] - 914s 4s/step - loss: 1.3783 - accuracy: 0.4677 - val_loss: 1.3122 - val_accuracy: 0.4990\n",
      "Epoch 11/30\n",
      "225/225 [==============================] - ETA: 0s - loss: 1.3452 - accuracy: 0.4852WARNING:tensorflow:Can save best model only with val_acc available, skipping.\n",
      "225/225 [==============================] - 913s 4s/step - loss: 1.3452 - accuracy: 0.4852 - val_loss: 1.3059 - val_accuracy: 0.5043\n",
      "Epoch 12/30\n",
      "225/225 [==============================] - ETA: 0s - loss: 1.3144 - accuracy: 0.4994WARNING:tensorflow:Can save best model only with val_acc available, skipping.\n",
      "225/225 [==============================] - 915s 4s/step - loss: 1.3144 - accuracy: 0.4994 - val_loss: 1.3013 - val_accuracy: 0.5074\n",
      "Epoch 13/30\n",
      "225/225 [==============================] - ETA: 0s - loss: 1.2813 - accuracy: 0.5090WARNING:tensorflow:Can save best model only with val_acc available, skipping.\n",
      "225/225 [==============================] - 914s 4s/step - loss: 1.2813 - accuracy: 0.5090 - val_loss: 1.2637 - val_accuracy: 0.5264\n",
      "Epoch 14/30\n",
      "225/225 [==============================] - ETA: 0s - loss: 1.2500 - accuracy: 0.5221WARNING:tensorflow:Can save best model only with val_acc available, skipping.\n",
      "225/225 [==============================] - 916s 4s/step - loss: 1.2500 - accuracy: 0.5221 - val_loss: 1.2281 - val_accuracy: 0.5374\n",
      "Epoch 15/30\n",
      "225/225 [==============================] - ETA: 0s - loss: 1.2306 - accuracy: 0.5282WARNING:tensorflow:Can save best model only with val_acc available, skipping.\n",
      "225/225 [==============================] - 917s 4s/step - loss: 1.2306 - accuracy: 0.5282 - val_loss: 1.1893 - val_accuracy: 0.5577\n",
      "Epoch 16/30\n",
      "225/225 [==============================] - ETA: 0s - loss: 1.2105 - accuracy: 0.5368WARNING:tensorflow:Can save best model only with val_acc available, skipping.\n",
      "225/225 [==============================] - 915s 4s/step - loss: 1.2105 - accuracy: 0.5368 - val_loss: 1.1916 - val_accuracy: 0.5531\n",
      "Epoch 17/30\n",
      "225/225 [==============================] - ETA: 0s - loss: 1.1897 - accuracy: 0.5483WARNING:tensorflow:Can save best model only with val_acc available, skipping.\n",
      "225/225 [==============================] - 919s 4s/step - loss: 1.1897 - accuracy: 0.5483 - val_loss: 1.1760 - val_accuracy: 0.5631\n",
      "Epoch 18/30\n",
      "225/225 [==============================] - ETA: 0s - loss: 1.1649 - accuracy: 0.5565WARNING:tensorflow:Can save best model only with val_acc available, skipping.\n",
      "225/225 [==============================] - 915s 4s/step - loss: 1.1649 - accuracy: 0.5565 - val_loss: 1.1660 - val_accuracy: 0.5618\n",
      "Epoch 19/30\n",
      "225/225 [==============================] - ETA: 0s - loss: 1.1485 - accuracy: 0.5588WARNING:tensorflow:Can save best model only with val_acc available, skipping.\n",
      "225/225 [==============================] - 926s 4s/step - loss: 1.1485 - accuracy: 0.5588 - val_loss: 1.1887 - val_accuracy: 0.5538\n",
      "Epoch 20/30\n",
      "225/225 [==============================] - ETA: 0s - loss: 1.1249 - accuracy: 0.5699WARNING:tensorflow:Can save best model only with val_acc available, skipping.\n",
      "225/225 [==============================] - 924s 4s/step - loss: 1.1249 - accuracy: 0.5699 - val_loss: 1.1479 - val_accuracy: 0.5705\n",
      "Epoch 21/30\n",
      "225/225 [==============================] - ETA: 0s - loss: 1.1049 - accuracy: 0.5805WARNING:tensorflow:Can save best model only with val_acc available, skipping.\n",
      "225/225 [==============================] - 926s 4s/step - loss: 1.1049 - accuracy: 0.5805 - val_loss: 1.1149 - val_accuracy: 0.5858\n",
      "Epoch 22/30\n",
      "225/225 [==============================] - ETA: 0s - loss: 1.0897 - accuracy: 0.5872WARNING:tensorflow:Can save best model only with val_acc available, skipping.\n",
      "225/225 [==============================] - 912s 4s/step - loss: 1.0897 - accuracy: 0.5872 - val_loss: 1.1114 - val_accuracy: 0.5881\n",
      "Epoch 23/30\n",
      "225/225 [==============================] - ETA: 0s - loss: 1.0735 - accuracy: 0.5919WARNING:tensorflow:Can save best model only with val_acc available, skipping.\n",
      "225/225 [==============================] - 912s 4s/step - loss: 1.0735 - accuracy: 0.5919 - val_loss: 1.0860 - val_accuracy: 0.5953\n",
      "Epoch 24/30\n",
      "225/225 [==============================] - ETA: 0s - loss: 1.0618 - accuracy: 0.5966WARNING:tensorflow:Can save best model only with val_acc available, skipping.\n",
      "225/225 [==============================] - 913s 4s/step - loss: 1.0618 - accuracy: 0.5966 - val_loss: 1.1290 - val_accuracy: 0.5901\n",
      "Epoch 25/30\n",
      "225/225 [==============================] - ETA: 0s - loss: 1.0374 - accuracy: 0.6044WARNING:tensorflow:Can save best model only with val_acc available, skipping.\n",
      "225/225 [==============================] - 917s 4s/step - loss: 1.0374 - accuracy: 0.6044 - val_loss: 1.0899 - val_accuracy: 0.5979\n",
      "Epoch 26/30\n",
      "225/225 [==============================] - ETA: 0s - loss: 1.0206 - accuracy: 0.6140WARNING:tensorflow:Can save best model only with val_acc available, skipping.\n",
      "225/225 [==============================] - 912s 4s/step - loss: 1.0206 - accuracy: 0.6140 - val_loss: 1.1187 - val_accuracy: 0.5801\n",
      "Epoch 27/30\n",
      "225/225 [==============================] - ETA: 0s - loss: 1.0076 - accuracy: 0.6217WARNING:tensorflow:Can save best model only with val_acc available, skipping.\n",
      "225/225 [==============================] - 913s 4s/step - loss: 1.0076 - accuracy: 0.6217 - val_loss: 1.0640 - val_accuracy: 0.6109\n"
     ]
    },
    {
     "name": "stdout",
     "output_type": "stream",
     "text": [
      "Epoch 28/30\n",
      "225/225 [==============================] - ETA: 0s - loss: 0.9889 - accuracy: 0.6264WARNING:tensorflow:Can save best model only with val_acc available, skipping.\n",
      "225/225 [==============================] - 912s 4s/step - loss: 0.9889 - accuracy: 0.6264 - val_loss: 1.0826 - val_accuracy: 0.5949\n",
      "Epoch 29/30\n",
      "225/225 [==============================] - ETA: 0s - loss: 0.9725 - accuracy: 0.6345WARNING:tensorflow:Can save best model only with val_acc available, skipping.\n",
      "225/225 [==============================] - 913s 4s/step - loss: 0.9725 - accuracy: 0.6345 - val_loss: 1.0490 - val_accuracy: 0.6155\n",
      "Epoch 30/30\n",
      "225/225 [==============================] - ETA: 0s - loss: 0.9610 - accuracy: 0.6384WARNING:tensorflow:Can save best model only with val_acc available, skipping.\n",
      "225/225 [==============================] - 916s 4s/step - loss: 0.9610 - accuracy: 0.6384 - val_loss: 1.0634 - val_accuracy: 0.6089\n",
      "CPU times: user 14h 24min 17s, sys: 32min 58s, total: 14h 57min 16s\n",
      "Wall time: 7h 40min 56s\n"
     ]
    }
   ],
   "source": [
    "%%time\n",
    "\n",
    "# number of epochs to train the NN\n",
    "epochs = 30\n",
    "\n",
    "from keras.callbacks import ModelCheckpoint\n",
    "\n",
    "checkpoint = ModelCheckpoint(\"model_weights.h5\", monitor='val_acc', verbose=1, save_best_only=True, mode='max')\n",
    "callbacks_list = [checkpoint]\n",
    "\n",
    "history = model.fit_generator(generator=train_generator,\n",
    "                                steps_per_epoch=train_generator.n//train_generator.batch_size,\n",
    "                                epochs=epochs,\n",
    "                                validation_data = validation_generator,\n",
    "                                validation_steps = validation_generator.n//validation_generator.batch_size,\n",
    "                                callbacks=callbacks_list\n",
    "                                )"
   ]
  },
  {
   "cell_type": "code",
   "execution_count": 11,
   "metadata": {},
   "outputs": [],
   "source": [
    "model.save('my_model.h5')"
   ]
  },
  {
   "cell_type": "code",
   "execution_count": 27,
   "metadata": {},
   "outputs": [],
   "source": [
    "model_json = model.to_json()\n",
    "with open(\"model.json\", \"w\") as json_file:\n",
    "    json.dump(model_json, json_file)"
   ]
  },
  {
   "cell_type": "code",
   "execution_count": 2,
   "metadata": {},
   "outputs": [],
   "source": [
    "import json\n",
    "from keras.models import model_from_json\n",
    "with open('model.json','r') as f:\n",
    "    model_json = json.load(f)\n",
    "model = model_from_json(model_json)\n",
    "model.load_weights('my_model.h5')"
   ]
  },
  {
   "cell_type": "code",
   "execution_count": 18,
   "metadata": {},
   "outputs": [
    {
     "name": "stdout",
     "output_type": "stream",
     "text": [
      "WARNING:tensorflow:From <ipython-input-18-ad14c110a463>:1: Model.predict_generator (from tensorflow.python.keras.engine.training) is deprecated and will be removed in a future version.\n",
      "Instructions for updating:\n",
      "Please use Model.predict, which supports generators.\n"
     ]
    },
    {
     "data": {
      "text/plain": [
       "<Figure size 432x288 with 0 Axes>"
      ]
     },
     "metadata": {},
     "output_type": "display_data"
    },
    {
     "data": {
      "image/png": "[encoded data removed]",
      "text/plain": [
       "<Figure size 720x720 with 2 Axes>"
      ]
     },
     "metadata": {
      "needs_background": "light"
     },
     "output_type": "display_data"
    }
   ],
   "source": [
    "predictions = model.predict_generator(generator=validation_generator)\n",
    "y_pred = [np.argmax(probas) for probas in predictions]\n",
    "y_test = validation_generator.classes\n",
    "class_names = validation_generator.class_indices.keys()\n",
    "\n",
    "def plot_confusion_matrix(cm, classes, title='Confusion matrix', cmap=plt.cm.Blues):\n",
    "    cm = cm.astype('float') / cm.sum(axis=1)[:, np.newaxis]\n",
    "    plt.figure(figsize=(10,10))\n",
    "    plt.imshow(cm, interpolation='nearest', cmap=cmap)\n",
    "    plt.title(title)\n",
    "    plt.colorbar()\n",
    "    tick_marks = np.arange(len(classes))\n",
    "    plt.xticks(tick_marks, classes, rotation=45)\n",
    "    plt.yticks(tick_marks, classes)\n",
    "\n",
    "    fmt = '.2f'\n",
    "    thresh = cm.max() / 2.\n",
    "    for i, j in itertools.product(range(cm.shape[0]), range(cm.shape[1])):\n",
    "        plt.text(j, i, format(cm[i, j], fmt),\n",
    "                 horizontalalignment=\"center\",\n",
    "                 color=\"white\" if cm[i, j] > thresh else \"black\")\n",
    "\n",
    "    plt.ylabel('True label')\n",
    "    plt.xlabel('Predicted label')\n",
    "    plt.tight_layout()\n",
    "    \n",
    "# compute confusion matrix\n",
    "cnf_matrix = confusion_matrix(y_test, y_pred)\n",
    "np.set_printoptions(precision=2)\n",
    "\n",
    "# plot normalized confusion matrix\n",
    "plt.figure()\n",
    "plot_confusion_matrix(cnf_matrix, classes=class_names, title='Normalized confusion matrix')\n",
    "plt.show()"
   ]
  }
 ],
 "metadata": {
  "kernelspec": {
   "display_name": "Python 3",
   "language": "python",
   "name": "python3"
  },
  "language_info": {
   "codemirror_mode": {
    "name": "ipython",
    "version": 3
   },
   "file_extension": ".py",
   "mimetype": "text/x-python",
   "name": "python",
   "nbconvert_exporter": "python",
   "pygments_lexer": "ipython3",
   "version": "3.6.9"
  }
 },
 "nbformat": 4,
 "nbformat_minor": 4
}
