{
 "cells": [
  {
   "cell_type": "code",
   "execution_count": 1,
   "metadata": {},
   "outputs": [],
   "source": [
    "import pandas as pd\n",
    "import numpy as np\n",
    "import tensorflow as tf\n",
    "\n",
    "import keras\n",
    "from keras.models import Sequential\n",
    "from keras.layers import Conv2D, MaxPooling2D, AveragePooling2D\n",
    "from keras.layers import Dense, Activation, Dropout, Flatten\n",
    "\n",
    "from keras.preprocessing import image\n",
    "from keras.preprocessing.image import ImageDataGenerator\n",
    "import pandas as pd\n",
    "import numpy as np\n",
    "import matplotlib.pyplot as plt\n",
    "from sklearn.model_selection import train_test_split\n",
    "from keras import backend as K\n",
    "\n",
    "from keras.metrics import categorical_accuracy\n",
    "from keras.models import model_from_json\n",
    "from keras.callbacks import ModelCheckpoint\n",
    "from keras.optimizers import *\n",
    "from keras.layers.normalization import BatchNormalization\n",
    "import glob\n",
    "import cv2\n",
    "from PIL import Image\n",
    "from numpy import asarray"
   ]
  },
  {
   "cell_type": "code",
   "execution_count": 2,
   "metadata": {},
   "outputs": [],
   "source": [
    "train = glob.glob(\"../../real_faces/train/**/*.jpg\")\n",
    "validation = glob.glob(\"../../real_faces/validation/**/*.jpg\")"
   ]
  },
  {
   "cell_type": "code",
   "execution_count": 3,
   "metadata": {},
   "outputs": [],
   "source": [
    "df_train = pd.DataFrame({\"path\":train})\n",
    "df_validation = pd.DataFrame({\"path\":validation})"
   ]
  },
  {
   "cell_type": "code",
   "execution_count": 4,
   "metadata": {},
   "outputs": [],
   "source": [
    "df_train[\"GT\"] = df_train.path.apply(lambda x: x.split(\"/\")[4])\n",
    "df_validation[\"GT\"] = df_validation.path.apply(lambda x: x.split(\"/\")[4])"
   ]
  },
  {
   "cell_type": "code",
   "execution_count": 5,
   "metadata": {},
   "outputs": [
    {
     "data": {
      "text/html": [
       "<div>\n",
       "<style scoped>\n",
       "    .dataframe tbody tr th:only-of-type {\n",
       "        vertical-align: middle;\n",
       "    }\n",
       "\n",
       "    .dataframe tbody tr th {\n",
       "        vertical-align: top;\n",
       "    }\n",
       "\n",
       "    .dataframe thead th {\n",
       "        text-align: right;\n",
       "    }\n",
       "</style>\n",
       "<table border=\"1\" class=\"dataframe\">\n",
       "  <thead>\n",
       "    <tr style=\"text-align: right;\">\n",
       "      <th></th>\n",
       "      <th>path</th>\n",
       "      <th>GT</th>\n",
       "    </tr>\n",
       "  </thead>\n",
       "  <tbody>\n",
       "    <tr>\n",
       "      <th>0</th>\n",
       "      <td>../../real_faces/validation/disgust/34519.jpg</td>\n",
       "      <td>disgust</td>\n",
       "    </tr>\n",
       "    <tr>\n",
       "      <th>1</th>\n",
       "      <td>../../real_faces/validation/disgust/20761.jpg</td>\n",
       "      <td>disgust</td>\n",
       "    </tr>\n",
       "    <tr>\n",
       "      <th>2</th>\n",
       "      <td>../../real_faces/validation/disgust/12753.jpg</td>\n",
       "      <td>disgust</td>\n",
       "    </tr>\n",
       "    <tr>\n",
       "      <th>3</th>\n",
       "      <td>../../real_faces/validation/disgust/573.jpg</td>\n",
       "      <td>disgust</td>\n",
       "    </tr>\n",
       "    <tr>\n",
       "      <th>4</th>\n",
       "      <td>../../real_faces/validation/disgust/2732.jpg</td>\n",
       "      <td>disgust</td>\n",
       "    </tr>\n",
       "    <tr>\n",
       "      <th>...</th>\n",
       "      <td>...</td>\n",
       "      <td>...</td>\n",
       "    </tr>\n",
       "    <tr>\n",
       "      <th>7061</th>\n",
       "      <td>../../real_faces/validation/sad/34121.jpg</td>\n",
       "      <td>sad</td>\n",
       "    </tr>\n",
       "    <tr>\n",
       "      <th>7062</th>\n",
       "      <td>../../real_faces/validation/sad/22765.jpg</td>\n",
       "      <td>sad</td>\n",
       "    </tr>\n",
       "    <tr>\n",
       "      <th>7063</th>\n",
       "      <td>../../real_faces/validation/sad/13726.jpg</td>\n",
       "      <td>sad</td>\n",
       "    </tr>\n",
       "    <tr>\n",
       "      <th>7064</th>\n",
       "      <td>../../real_faces/validation/sad/19285.jpg</td>\n",
       "      <td>sad</td>\n",
       "    </tr>\n",
       "    <tr>\n",
       "      <th>7065</th>\n",
       "      <td>../../real_faces/validation/sad/14572.jpg</td>\n",
       "      <td>sad</td>\n",
       "    </tr>\n",
       "  </tbody>\n",
       "</table>\n",
       "<p>7066 rows × 2 columns</p>\n",
       "</div>"
      ],
      "text/plain": [
       "                                               path       GT\n",
       "0     ../../real_faces/validation/disgust/34519.jpg  disgust\n",
       "1     ../../real_faces/validation/disgust/20761.jpg  disgust\n",
       "2     ../../real_faces/validation/disgust/12753.jpg  disgust\n",
       "3       ../../real_faces/validation/disgust/573.jpg  disgust\n",
       "4      ../../real_faces/validation/disgust/2732.jpg  disgust\n",
       "...                                             ...      ...\n",
       "7061      ../../real_faces/validation/sad/34121.jpg      sad\n",
       "7062      ../../real_faces/validation/sad/22765.jpg      sad\n",
       "7063      ../../real_faces/validation/sad/13726.jpg      sad\n",
       "7064      ../../real_faces/validation/sad/19285.jpg      sad\n",
       "7065      ../../real_faces/validation/sad/14572.jpg      sad\n",
       "\n",
       "[7066 rows x 2 columns]"
      ]
     },
     "execution_count": 5,
     "metadata": {},
     "output_type": "execute_result"
    }
   ],
   "source": [
    "df_validation"
   ]
  },
  {
   "cell_type": "code",
   "execution_count": 6,
   "metadata": {},
   "outputs": [],
   "source": [
    "df_train[\"array\"]= df_train.path.apply(lambda x:asarray(Image.open(x)) )\n",
    "df_validation[\"array\"]= df_validation.path.apply(lambda x:asarray(Image.open(x)) )"
   ]
  },
  {
   "cell_type": "code",
   "execution_count": 7,
   "metadata": {
    "scrolled": true
   },
   "outputs": [
    {
     "data": {
      "text/html": [
       "<div>\n",
       "<style scoped>\n",
       "    .dataframe tbody tr th:only-of-type {\n",
       "        vertical-align: middle;\n",
       "    }\n",
       "\n",
       "    .dataframe tbody tr th {\n",
       "        vertical-align: top;\n",
       "    }\n",
       "\n",
       "    .dataframe thead th {\n",
       "        text-align: right;\n",
       "    }\n",
       "</style>\n",
       "<table border=\"1\" class=\"dataframe\">\n",
       "  <thead>\n",
       "    <tr style=\"text-align: right;\">\n",
       "      <th></th>\n",
       "      <th>path</th>\n",
       "      <th>GT</th>\n",
       "      <th>array</th>\n",
       "    </tr>\n",
       "  </thead>\n",
       "  <tbody>\n",
       "    <tr>\n",
       "      <th>0</th>\n",
       "      <td>../../real_faces/train/disgust/17299.jpg</td>\n",
       "      <td>disgust</td>\n",
       "      <td>[[71, 43, 22, 27, 28, 33, 38, 39, 43, 38, 31, ...</td>\n",
       "    </tr>\n",
       "    <tr>\n",
       "      <th>1</th>\n",
       "      <td>../../real_faces/train/disgust/25955.jpg</td>\n",
       "      <td>disgust</td>\n",
       "      <td>[[16, 11, 4, 16, 47, 81, 91, 85, 89, 95, 101, ...</td>\n",
       "    </tr>\n",
       "    <tr>\n",
       "      <th>2</th>\n",
       "      <td>../../real_faces/train/disgust/28029.jpg</td>\n",
       "      <td>disgust</td>\n",
       "      <td>[[18, 10, 9, 3, 1, 8, 8, 11, 11, 11, 10, 44, 6...</td>\n",
       "    </tr>\n",
       "    <tr>\n",
       "      <th>3</th>\n",
       "      <td>../../real_faces/train/disgust/34692.jpg</td>\n",
       "      <td>disgust</td>\n",
       "      <td>[[174, 172, 178, 122, 92, 108, 113, 112, 122, ...</td>\n",
       "    </tr>\n",
       "    <tr>\n",
       "      <th>4</th>\n",
       "      <td>../../real_faces/train/disgust/29951.jpg</td>\n",
       "      <td>disgust</td>\n",
       "      <td>[[165, 158, 120, 157, 231, 235, 231, 177, 111,...</td>\n",
       "    </tr>\n",
       "  </tbody>\n",
       "</table>\n",
       "</div>"
      ],
      "text/plain": [
       "                                       path       GT  \\\n",
       "0  ../../real_faces/train/disgust/17299.jpg  disgust   \n",
       "1  ../../real_faces/train/disgust/25955.jpg  disgust   \n",
       "2  ../../real_faces/train/disgust/28029.jpg  disgust   \n",
       "3  ../../real_faces/train/disgust/34692.jpg  disgust   \n",
       "4  ../../real_faces/train/disgust/29951.jpg  disgust   \n",
       "\n",
       "                                               array  \n",
       "0  [[71, 43, 22, 27, 28, 33, 38, 39, 43, 38, 31, ...  \n",
       "1  [[16, 11, 4, 16, 47, 81, 91, 85, 89, 95, 101, ...  \n",
       "2  [[18, 10, 9, 3, 1, 8, 8, 11, 11, 11, 10, 44, 6...  \n",
       "3  [[174, 172, 178, 122, 92, 108, 113, 112, 122, ...  \n",
       "4  [[165, 158, 120, 157, 231, 235, 231, 177, 111,...  "
      ]
     },
     "execution_count": 7,
     "metadata": {},
     "output_type": "execute_result"
    }
   ],
   "source": [
    "df_train.head()"
   ]
  },
  {
   "cell_type": "code",
   "execution_count": 10,
   "metadata": {},
   "outputs": [],
   "source": [
    "X=df_train[\"array\"]\n",
    "Y=df_train[\"GT\"]"
   ]
  },
  {
   "cell_type": "code",
   "execution_count": 12,
   "metadata": {},
   "outputs": [],
   "source": [
    "from sklearn.model_selection import train_test_split\n",
    "num_class=7\n",
    "X_train, X_test, y_train, y_test = train_test_split(X, Y, test_size=0.15, random_state=0)\n",
    "y_train = (np.arange(num_class) == y_train[:, None]).astype(np.float32)\n",
    "y_test = (np.arange(num_class) == y_test[:, None]).astype(np.float32)"
   ]
  },
  {
   "cell_type": "code",
   "execution_count": null,
   "metadata": {},
   "outputs": [],
   "source": []
  }
 ],
 "metadata": {
  "kernelspec": {
   "display_name": "Python 3",
   "language": "python",
   "name": "python3"
  }
 },
 "nbformat": 4,
 "nbformat_minor": 4
}
